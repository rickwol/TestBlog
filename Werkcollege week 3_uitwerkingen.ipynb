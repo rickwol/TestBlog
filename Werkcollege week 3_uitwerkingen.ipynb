{
 "cells": [
  {
   "cell_type": "markdown",
   "metadata": {},
   "source": [
    "## 1. \n",
    "**Importeer de dataset Mugello.csv in R**"
   ]
  },
  {
   "cell_type": "code",
   "execution_count": null,
   "metadata": {},
   "outputs": [],
   "source": [
    "anti_table = df1.merge(df2, how = 'outer', on = 'var1', indicator=True)\n",
    "df_not_both = anti_table.loc[anti_table[\"_merge\"] != \"both\",:]\n"
   ]
  },
  {
   "cell_type": "code",
   "execution_count": null,
   "metadata": {},
   "outputs": [],
   "source": [
    "import numpy as np\n",
    "import pandas as pd"
   ]
  },
  {
   "cell_type": "code",
   "execution_count": null,
   "metadata": {},
   "outputs": [],
   "source": [
    "mugello = pd.read_csv('Mugello.csv', index_col=0)\n",
    "mugello.head()"
   ]
  },
  {
   "cell_type": "markdown",
   "metadata": {},
   "source": [
    "## 2. \n",
    "**Zet de dataset om van een wide format naar een long format.**"
   ]
  },
  {
   "cell_type": "code",
   "execution_count": null,
   "metadata": {},
   "outputs": [],
   "source": [
    "mugello_long = pd.melt(mugello, id_vars=['LAP'], value_name=\"lap_time\", var_name=\"driver\")\n",
    "mugello_long.head()"
   ]
  },
  {
   "cell_type": "markdown",
   "metadata": {},
   "source": [
    "met unstack:"
   ]
  },
  {
   "cell_type": "code",
   "execution_count": null,
   "metadata": {},
   "outputs": [],
   "source": [
    "mugello_long2 = mugello.stack()\n",
    "mugello_long2.head()"
   ]
  },
  {
   "cell_type": "markdown",
   "metadata": {},
   "source": [
    "## 3. \n",
    "**Wie reed de snelste ronde?**\n",
    "\n",
    "Je kan sorteren:"
   ]
  },
  {
   "cell_type": "code",
   "execution_count": null,
   "metadata": {},
   "outputs": [],
   "source": [
    "mugello_long.sort_values(by = \"lap_time\").head(1)"
   ]
  },
  {
   "cell_type": "markdown",
   "metadata": {},
   "source": [
    "Of filteren op de laagste rondetijd: "
   ]
  },
  {
   "cell_type": "code",
   "execution_count": null,
   "metadata": {},
   "outputs": [],
   "source": [
    "mugello_long.loc[mugello_long.lap_time == mugello_long.lap_time.min()]"
   ]
  },
  {
   "cell_type": "markdown",
   "metadata": {},
   "source": [
    "## 4. \n",
    "**Verwijder de NA waardes uit de dataset**\n",
    "\n",
    "Er zitten 403 NA's in de kolom lap_time (omdat sommige coureurs de race niet hebben uitgereden):"
   ]
  },
  {
   "cell_type": "code",
   "execution_count": null,
   "metadata": {},
   "outputs": [],
   "source": [
    "pd.isna(mugello_long).sum()"
   ]
  },
  {
   "cell_type": "code",
   "execution_count": null,
   "metadata": {},
   "outputs": [],
   "source": [
    "mugello_long2 = mugello_long.dropna()\n",
    "pd.isna(mugello_long2).sum()"
   ]
  },
  {
   "cell_type": "markdown",
   "metadata": {},
   "source": [
    "Indien je gebruik wil maken van inplace = True kan dit ook. Dan hoef je de nieuwe dataset niet onder een andere naam op te slaan. "
   ]
  },
  {
   "cell_type": "code",
   "execution_count": null,
   "metadata": {},
   "outputs": [],
   "source": [
    "mugello_long.dropna(inplace=True)\n",
    "pd.isna(mugello_long).sum()"
   ]
  },
  {
   "cell_type": "markdown",
   "metadata": {},
   "source": [
    "## 5. \n",
    "**Wat is de gemiddelde rondetijd?**"
   ]
  },
  {
   "cell_type": "code",
   "execution_count": null,
   "metadata": {},
   "outputs": [],
   "source": [
    "mugello_long2.lap_time.mean()"
   ]
  },
  {
   "cell_type": "markdown",
   "metadata": {},
   "source": [
    "## 6. \n",
    "**Bereken de snelste rondetijd per coureur en sla deze op als variabele in het dataframe**<br>\n",
    "**Bereken tevens het verschil van de rondetijd met de snelste ronde deze coureur en sla dit op in een nieuwe variabele, doe deze twee berekeningen in één assign functie**"
   ]
  },
  {
   "cell_type": "code",
   "execution_count": null,
   "metadata": {},
   "outputs": [],
   "source": [
    "mugello_long2 = mugello_long2.assign(Snelste = lambda x: x.groupby('driver')[\"lap_time\"].transform(min),\n",
    "                                    Verschil = lambda x: x[\"lap_time\"] - x[\"Snelste\"])\n",
    "mugello_long2"
   ]
  },
  {
   "cell_type": "markdown",
   "metadata": {},
   "source": [
    "## 7. \n",
    "**Bereken de totale tijd gereden vanaf de eerste ronde per coureur. Maak een nieuwe kolom\n",
    "om deze informatie op te slaan.**"
   ]
  },
  {
   "cell_type": "code",
   "execution_count": null,
   "metadata": {},
   "outputs": [],
   "source": [
    "mugello_long2 = mugello_long2.assign(total2 = lambda x: x.groupby('driver')[\"lap_time\"].cumsum())"
   ]
  },
  {
   "cell_type": "markdown",
   "metadata": {},
   "source": []
  },
  {
   "cell_type": "code",
   "execution_count": null,
   "metadata": {},
   "outputs": [],
   "source": []
  },
  {
   "cell_type": "markdown",
   "metadata": {},
   "source": [
    "## 8. \n",
    "**Zet de dataset op volgorde van totale tijd verstreken van klein naar groot**"
   ]
  },
  {
   "cell_type": "code",
   "execution_count": null,
   "metadata": {},
   "outputs": [],
   "source": [
    "mugello_long2 = mugello_long2.sort_values('total')\n",
    "mugello_long2.head()"
   ]
  },
  {
   "cell_type": "markdown",
   "metadata": {},
   "source": [
    "## 9. \n",
    "**Selecteer alleen de variabelen met Lap, driver en laptime**"
   ]
  },
  {
   "cell_type": "code",
   "execution_count": null,
   "metadata": {},
   "outputs": [],
   "source": [
    "mugello_long_select = mugello_long2.loc[:,['LAP','driver','lap_time']]\n",
    "mugello_long_select.head()"
   ]
  },
  {
   "cell_type": "markdown",
   "metadata": {},
   "source": [
    "## 10. \n",
    "**Zet de dataset weer om in een wideformat**"
   ]
  },
  {
   "cell_type": "code",
   "execution_count": null,
   "metadata": {},
   "outputs": [],
   "source": [
    "mugello_wide = mugello_long_select.pivot(index='LAP', columns='driver', values='lap_time')\n",
    "mugello_wide.head()"
   ]
  }
 ],
 "metadata": {
  "kernelspec": {
   "display_name": "Python 3",
   "language": "python",
   "name": "python3"
  },
  "language_info": {
   "codemirror_mode": {
    "name": "ipython",
    "version": 3
   },
   "file_extension": ".py",
   "mimetype": "text/x-python",
   "name": "python",
   "nbconvert_exporter": "python",
   "pygments_lexer": "ipython3",
   "version": "3.8.5"
  }
 },
 "nbformat": 4,
 "nbformat_minor": 4
}
