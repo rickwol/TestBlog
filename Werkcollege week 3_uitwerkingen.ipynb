{
 "cells": [
  {
   "cell_type": "code",
   "execution_count": 1,
   "metadata": {},
   "outputs": [],
   "source": [
    "import numpy as np\n",
    "import pandas as pd"
   ]
  },
  {
   "cell_type": "code",
   "execution_count": 4,
   "metadata": {},
   "outputs": [
    {
     "data": {
      "text/html": [
       "<div>\n",
       "<style scoped>\n",
       "    .dataframe tbody tr th:only-of-type {\n",
       "        vertical-align: middle;\n",
       "    }\n",
       "\n",
       "    .dataframe tbody tr th {\n",
       "        vertical-align: top;\n",
       "    }\n",
       "\n",
       "    .dataframe thead th {\n",
       "        text-align: right;\n",
       "    }\n",
       "</style>\n",
       "<table border=\"1\" class=\"dataframe\">\n",
       "  <thead>\n",
       "    <tr style=\"text-align: right;\">\n",
       "      <th></th>\n",
       "      <th>LAP</th>\n",
       "      <th>Daniel.RICCIARDO</th>\n",
       "      <th>Lando.NORRIS</th>\n",
       "      <th>Sebastian.VETTEL</th>\n",
       "      <th>Nicholas.LATIFI</th>\n",
       "      <th>Kimi.RAIKKONEN</th>\n",
       "      <th>Romain.GROSJEAN</th>\n",
       "      <th>Pierre.GASLY</th>\n",
       "      <th>Sergio.PEREZ</th>\n",
       "      <th>Charles.LECLERC</th>\n",
       "      <th>...</th>\n",
       "      <th>Kevin.MAGNUSSEN</th>\n",
       "      <th>Alexander.ALBON</th>\n",
       "      <th>Daniil.KVYAT</th>\n",
       "      <th>Esteban.OCON</th>\n",
       "      <th>Max.VERSTAPPEN</th>\n",
       "      <th>Lewis.HAMILTON</th>\n",
       "      <th>Carlos.SAINZ</th>\n",
       "      <th>George.RUSSELL</th>\n",
       "      <th>Valtteri.BOTTAS</th>\n",
       "      <th>Antonio.GIOVINAZZI</th>\n",
       "    </tr>\n",
       "  </thead>\n",
       "  <tbody>\n",
       "    <tr>\n",
       "      <th>1</th>\n",
       "      <td>1</td>\n",
       "      <td>141.000</td>\n",
       "      <td>145.000</td>\n",
       "      <td>192.000</td>\n",
       "      <td>154.000</td>\n",
       "      <td>181.000</td>\n",
       "      <td>183.000</td>\n",
       "      <td>NaN</td>\n",
       "      <td>142.000</td>\n",
       "      <td>136.000</td>\n",
       "      <td>...</td>\n",
       "      <td>153.000</td>\n",
       "      <td>138.000</td>\n",
       "      <td>147.000</td>\n",
       "      <td>148.000</td>\n",
       "      <td>NaN</td>\n",
       "      <td>135.000</td>\n",
       "      <td>164.000</td>\n",
       "      <td>149.000</td>\n",
       "      <td>132.000</td>\n",
       "      <td>155.000</td>\n",
       "    </tr>\n",
       "    <tr>\n",
       "      <th>2</th>\n",
       "      <td>2</td>\n",
       "      <td>144.786</td>\n",
       "      <td>144.371</td>\n",
       "      <td>112.400</td>\n",
       "      <td>142.833</td>\n",
       "      <td>120.769</td>\n",
       "      <td>117.221</td>\n",
       "      <td>NaN</td>\n",
       "      <td>145.389</td>\n",
       "      <td>146.424</td>\n",
       "      <td>...</td>\n",
       "      <td>142.262</td>\n",
       "      <td>145.960</td>\n",
       "      <td>144.130</td>\n",
       "      <td>143.856</td>\n",
       "      <td>NaN</td>\n",
       "      <td>146.653</td>\n",
       "      <td>135.826</td>\n",
       "      <td>144.480</td>\n",
       "      <td>148.572</td>\n",
       "      <td>143.099</td>\n",
       "    </tr>\n",
       "    <tr>\n",
       "      <th>3</th>\n",
       "      <td>3</td>\n",
       "      <td>137.351</td>\n",
       "      <td>137.331</td>\n",
       "      <td>135.684</td>\n",
       "      <td>137.245</td>\n",
       "      <td>137.105</td>\n",
       "      <td>137.211</td>\n",
       "      <td>NaN</td>\n",
       "      <td>137.193</td>\n",
       "      <td>136.385</td>\n",
       "      <td>...</td>\n",
       "      <td>137.241</td>\n",
       "      <td>136.967</td>\n",
       "      <td>137.237</td>\n",
       "      <td>137.987</td>\n",
       "      <td>NaN</td>\n",
       "      <td>136.551</td>\n",
       "      <td>136.430</td>\n",
       "      <td>137.132</td>\n",
       "      <td>137.078</td>\n",
       "      <td>136.806</td>\n",
       "    </tr>\n",
       "    <tr>\n",
       "      <th>4</th>\n",
       "      <td>4</td>\n",
       "      <td>135.385</td>\n",
       "      <td>134.602</td>\n",
       "      <td>136.774</td>\n",
       "      <td>133.727</td>\n",
       "      <td>135.592</td>\n",
       "      <td>134.294</td>\n",
       "      <td>NaN</td>\n",
       "      <td>134.942</td>\n",
       "      <td>135.131</td>\n",
       "      <td>...</td>\n",
       "      <td>133.812</td>\n",
       "      <td>134.650</td>\n",
       "      <td>134.702</td>\n",
       "      <td>134.439</td>\n",
       "      <td>NaN</td>\n",
       "      <td>134.621</td>\n",
       "      <td>134.153</td>\n",
       "      <td>134.898</td>\n",
       "      <td>133.468</td>\n",
       "      <td>133.809</td>\n",
       "    </tr>\n",
       "    <tr>\n",
       "      <th>5</th>\n",
       "      <td>5</td>\n",
       "      <td>132.873</td>\n",
       "      <td>132.713</td>\n",
       "      <td>132.292</td>\n",
       "      <td>134.383</td>\n",
       "      <td>133.244</td>\n",
       "      <td>134.068</td>\n",
       "      <td>NaN</td>\n",
       "      <td>132.602</td>\n",
       "      <td>133.400</td>\n",
       "      <td>...</td>\n",
       "      <td>134.825</td>\n",
       "      <td>133.442</td>\n",
       "      <td>132.980</td>\n",
       "      <td>133.705</td>\n",
       "      <td>NaN</td>\n",
       "      <td>133.693</td>\n",
       "      <td>134.103</td>\n",
       "      <td>133.501</td>\n",
       "      <td>134.247</td>\n",
       "      <td>134.220</td>\n",
       "    </tr>\n",
       "  </tbody>\n",
       "</table>\n",
       "<p>5 rows × 21 columns</p>\n",
       "</div>"
      ],
      "text/plain": [
       "   LAP  Daniel.RICCIARDO  Lando.NORRIS  Sebastian.VETTEL  Nicholas.LATIFI  \\\n",
       "1    1           141.000       145.000           192.000          154.000   \n",
       "2    2           144.786       144.371           112.400          142.833   \n",
       "3    3           137.351       137.331           135.684          137.245   \n",
       "4    4           135.385       134.602           136.774          133.727   \n",
       "5    5           132.873       132.713           132.292          134.383   \n",
       "\n",
       "   Kimi.RAIKKONEN  Romain.GROSJEAN  Pierre.GASLY  Sergio.PEREZ  \\\n",
       "1         181.000          183.000           NaN       142.000   \n",
       "2         120.769          117.221           NaN       145.389   \n",
       "3         137.105          137.211           NaN       137.193   \n",
       "4         135.592          134.294           NaN       134.942   \n",
       "5         133.244          134.068           NaN       132.602   \n",
       "\n",
       "   Charles.LECLERC  ...  Kevin.MAGNUSSEN  Alexander.ALBON  Daniil.KVYAT  \\\n",
       "1          136.000  ...          153.000          138.000       147.000   \n",
       "2          146.424  ...          142.262          145.960       144.130   \n",
       "3          136.385  ...          137.241          136.967       137.237   \n",
       "4          135.131  ...          133.812          134.650       134.702   \n",
       "5          133.400  ...          134.825          133.442       132.980   \n",
       "\n",
       "   Esteban.OCON  Max.VERSTAPPEN  Lewis.HAMILTON  Carlos.SAINZ  George.RUSSELL  \\\n",
       "1       148.000             NaN         135.000       164.000         149.000   \n",
       "2       143.856             NaN         146.653       135.826         144.480   \n",
       "3       137.987             NaN         136.551       136.430         137.132   \n",
       "4       134.439             NaN         134.621       134.153         134.898   \n",
       "5       133.705             NaN         133.693       134.103         133.501   \n",
       "\n",
       "   Valtteri.BOTTAS  Antonio.GIOVINAZZI  \n",
       "1          132.000             155.000  \n",
       "2          148.572             143.099  \n",
       "3          137.078             136.806  \n",
       "4          133.468             133.809  \n",
       "5          134.247             134.220  \n",
       "\n",
       "[5 rows x 21 columns]"
      ]
     },
     "execution_count": 4,
     "metadata": {},
     "output_type": "execute_result"
    }
   ],
   "source": [
    "{\n",
    "    \"tags\": [\n",
    "        \"hide-input\",\n",
    "    ]\n",
    "}\n",
    "\n",
    "mugello = pd.read_csv('Mugello.csv', index_col=0)\n",
    "mugello.head()"
   ]
  },
  {
   "cell_type": "markdown",
   "metadata": {},
   "source": [
    "## 2. \n",
    "**Zet de dataset om van een wide format naar een long format.**"
   ]
  },
  {
   "cell_type": "code",
   "execution_count": 3,
   "metadata": {},
   "outputs": [
    {
     "data": {
      "text/html": [
       "<div>\n",
       "<style scoped>\n",
       "    .dataframe tbody tr th:only-of-type {\n",
       "        vertical-align: middle;\n",
       "    }\n",
       "\n",
       "    .dataframe tbody tr th {\n",
       "        vertical-align: top;\n",
       "    }\n",
       "\n",
       "    .dataframe thead th {\n",
       "        text-align: right;\n",
       "    }\n",
       "</style>\n",
       "<table border=\"1\" class=\"dataframe\">\n",
       "  <thead>\n",
       "    <tr style=\"text-align: right;\">\n",
       "      <th></th>\n",
       "      <th>LAP</th>\n",
       "      <th>driver</th>\n",
       "      <th>lap_time</th>\n",
       "    </tr>\n",
       "  </thead>\n",
       "  <tbody>\n",
       "    <tr>\n",
       "      <th>0</th>\n",
       "      <td>1</td>\n",
       "      <td>Daniel.RICCIARDO</td>\n",
       "      <td>141.000</td>\n",
       "    </tr>\n",
       "    <tr>\n",
       "      <th>1</th>\n",
       "      <td>2</td>\n",
       "      <td>Daniel.RICCIARDO</td>\n",
       "      <td>144.786</td>\n",
       "    </tr>\n",
       "    <tr>\n",
       "      <th>2</th>\n",
       "      <td>3</td>\n",
       "      <td>Daniel.RICCIARDO</td>\n",
       "      <td>137.351</td>\n",
       "    </tr>\n",
       "    <tr>\n",
       "      <th>3</th>\n",
       "      <td>4</td>\n",
       "      <td>Daniel.RICCIARDO</td>\n",
       "      <td>135.385</td>\n",
       "    </tr>\n",
       "    <tr>\n",
       "      <th>4</th>\n",
       "      <td>5</td>\n",
       "      <td>Daniel.RICCIARDO</td>\n",
       "      <td>132.873</td>\n",
       "    </tr>\n",
       "  </tbody>\n",
       "</table>\n",
       "</div>"
      ],
      "text/plain": [
       "   LAP            driver  lap_time\n",
       "0    1  Daniel.RICCIARDO   141.000\n",
       "1    2  Daniel.RICCIARDO   144.786\n",
       "2    3  Daniel.RICCIARDO   137.351\n",
       "3    4  Daniel.RICCIARDO   135.385\n",
       "4    5  Daniel.RICCIARDO   132.873"
      ]
     },
     "execution_count": 3,
     "metadata": {},
     "output_type": "execute_result"
    }
   ],
   "source": [
    "mugello_long = pd.melt(mugello, id_vars=['LAP'], value_name=\"lap_time\", var_name=\"driver\")\n",
    "mugello_long.head()"
   ]
  },
  {
   "cell_type": "markdown",
   "metadata": {},
   "source": [
    "met unstack:"
   ]
  },
  {
   "cell_type": "code",
   "execution_count": null,
   "metadata": {},
   "outputs": [],
   "source": [
    "mugello_long2 = mugello.stack()\n",
    "mugello_long2.head()"
   ]
  },
  {
   "cell_type": "markdown",
   "metadata": {},
   "source": [
    "## 3. \n",
    "**Wie reed de snelste ronde?**\n",
    "\n",
    "Je kan sorteren:"
   ]
  },
  {
   "cell_type": "code",
   "execution_count": null,
   "metadata": {},
   "outputs": [],
   "source": [
    "mugello_long.sort_values(by = \"lap_time\").head(1)"
   ]
  },
  {
   "cell_type": "markdown",
   "metadata": {},
   "source": [
    "Of filteren op de laagste rondetijd: "
   ]
  },
  {
   "cell_type": "code",
   "execution_count": null,
   "metadata": {},
   "outputs": [],
   "source": [
    "mugello_long.loc[mugello_long.lap_time == mugello_long.lap_time.min()]"
   ]
  },
  {
   "cell_type": "markdown",
   "metadata": {},
   "source": [
    "## 4. \n",
    "**Verwijder de NA waardes uit de dataset**\n",
    "\n",
    "Er zitten 403 NA's in de kolom lap_time (omdat sommige coureurs de race niet hebben uitgereden):"
   ]
  },
  {
   "cell_type": "code",
   "execution_count": null,
   "metadata": {},
   "outputs": [],
   "source": [
    "pd.isna(mugello_long).sum()"
   ]
  },
  {
   "cell_type": "code",
   "execution_count": null,
   "metadata": {},
   "outputs": [],
   "source": [
    "mugello_long2 = mugello_long.dropna()\n",
    "pd.isna(mugello_long2).sum()"
   ]
  },
  {
   "cell_type": "markdown",
   "metadata": {},
   "source": [
    "Indien je gebruik wil maken van inplace = True kan dit ook. Dan hoef je de nieuwe dataset niet onder een andere naam op te slaan. "
   ]
  },
  {
   "cell_type": "code",
   "execution_count": null,
   "metadata": {},
   "outputs": [],
   "source": [
    "mugello_long.dropna(inplace=True)\n",
    "pd.isna(mugello_long).sum()"
   ]
  },
  {
   "cell_type": "markdown",
   "metadata": {},
   "source": [
    "## 5. \n",
    "**Wat is de gemiddelde rondetijd?**"
   ]
  },
  {
   "cell_type": "code",
   "execution_count": null,
   "metadata": {},
   "outputs": [],
   "source": [
    "mugello_long2.lap_time.mean()"
   ]
  },
  {
   "cell_type": "markdown",
   "metadata": {},
   "source": [
    "## 6. \n",
    "**Bereken de snelste rondetijd per coureur en sla deze op als variabele in het dataframe**<br>\n",
    "**Bereken tevens het verschil van de rondetijd met de snelste ronde deze coureur en sla dit op in een nieuwe variabele, doe deze twee berekeningen in één assign functie**"
   ]
  },
  {
   "cell_type": "code",
   "execution_count": null,
   "metadata": {},
   "outputs": [],
   "source": [
    "mugello_long2 = mugello_long2.assign(Snelste = lambda x: x.groupby('driver')[\"lap_time\"].transform(min),\n",
    "                                    Verschil = lambda x: x[\"lap_time\"] - x[\"Snelste\"])\n",
    "mugello_long2"
   ]
  },
  {
   "cell_type": "markdown",
   "metadata": {},
   "source": [
    "## 7. \n",
    "**Bereken de totale tijd gereden vanaf de eerste ronde per coureur. Maak een nieuwe kolom\n",
    "om deze informatie op te slaan.**"
   ]
  },
  {
   "cell_type": "code",
   "execution_count": null,
   "metadata": {},
   "outputs": [],
   "source": [
    "mugello_long2 = mugello_long2.assign(total2 = lambda x: x.groupby('driver')[\"lap_time\"].cumsum())"
   ]
  },
  {
   "cell_type": "markdown",
   "metadata": {},
   "source": []
  },
  {
   "cell_type": "code",
   "execution_count": null,
   "metadata": {},
   "outputs": [],
   "source": []
  },
  {
   "cell_type": "markdown",
   "metadata": {},
   "source": [
    "## 8. \n",
    "**Zet de dataset op volgorde van totale tijd verstreken van klein naar groot**"
   ]
  },
  {
   "cell_type": "code",
   "execution_count": null,
   "metadata": {},
   "outputs": [],
   "source": [
    "mugello_long2 = mugello_long2.sort_values('total')\n",
    "mugello_long2.head()"
   ]
  },
  {
   "cell_type": "markdown",
   "metadata": {},
   "source": [
    "## 9. \n",
    "**Selecteer alleen de variabelen met Lap, driver en laptime**"
   ]
  },
  {
   "cell_type": "code",
   "execution_count": null,
   "metadata": {},
   "outputs": [],
   "source": [
    "mugello_long_select = mugello_long2.loc[:,['LAP','driver','lap_time']]\n",
    "mugello_long_select.head()"
   ]
  },
  {
   "cell_type": "markdown",
   "metadata": {},
   "source": [
    "## 10. \n",
    "**Zet de dataset weer om in een wideformat**"
   ]
  },
  {
   "cell_type": "code",
   "execution_count": null,
   "metadata": {},
   "outputs": [],
   "source": [
    "mugello_wide = mugello_long_select.pivot(index='LAP', columns='driver', values='lap_time')\n",
    "mugello_wide.head()"
   ]
  }
 ],
 "metadata": {
  "kernelspec": {
   "display_name": "Python 3",
   "language": "python",
   "name": "python3"
  },
  "language_info": {
   "codemirror_mode": {
    "name": "ipython",
    "version": 3
   },
   "file_extension": ".py",
   "mimetype": "text/x-python",
   "name": "python",
   "nbconvert_exporter": "python",
   "pygments_lexer": "ipython3",
   "version": "3.8.5"
  }
 },
 "nbformat": 4,
 "nbformat_minor": 4
}
